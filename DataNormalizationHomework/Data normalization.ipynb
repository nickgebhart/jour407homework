{
 "cells": [
  {
   "cell_type": "code",
   "execution_count": 2,
   "metadata": {
    "collapsed": true
   },
   "outputs": [],
   "source": [
    "import agate"
   ]
  },
  {
   "cell_type": "code",
   "execution_count": 3,
   "metadata": {
    "collapsed": true
   },
   "outputs": [],
   "source": [
    "spills = agate.Table.from_csv('Desktop/spills.csv')"
   ]
  },
  {
   "cell_type": "code",
   "execution_count": 4,
   "metadata": {
    "collapsed": false
   },
   "outputs": [
    {
     "name": "stdout",
     "output_type": "stream",
     "text": [
      "|--------------------------------------+---------------|\n",
      "|  column_names                        | column_types  |\n",
      "|--------------------------------------+---------------|\n",
      "|  SPILLNO-------                      | Text          |\n",
      "|  S                                   | Text          |\n",
      "|  OWNCO--------------------           | Text          |\n",
      "|  OWNSTREET-----------                | Text          |\n",
      "|  OWNCITY-------------                | Text          |\n",
      "|  OS                                  | Text          |\n",
      "|  OZIP                                | Text          |\n",
      "|  TY                                  | Number        |\n",
      "|  DIDATE----                          | DateTime      |\n",
      "|  SPLOC     ------------------------- | Text          |\n",
      "|  SPCITY-------------------           | Text          |\n",
      "|  SPCOUN-------------------           | Text          |\n",
      "|  MATERIAL----------------------      | Text          |\n",
      "|  SFM_ID--                            | Text          |\n",
      "|  FAC_NAME-----------------           | Text          |\n",
      "|--------------------------------------+---------------|\n",
      "\n"
     ]
    }
   ],
   "source": [
    "print(spills)"
   ]
  },
  {
   "cell_type": "code",
   "execution_count": 7,
   "metadata": {
    "collapsed": false
   },
   "outputs": [],
   "source": [
    "company = spills.group_by('OWNCO--------------------')"
   ]
  },
  {
   "cell_type": "code",
   "execution_count": 8,
   "metadata": {
    "collapsed": false
   },
   "outputs": [
    {
     "name": "stdout",
     "output_type": "stream",
     "text": [
      "8759\n"
     ]
    }
   ],
   "source": [
    "print(len(company))"
   ]
  },
  {
   "cell_type": "code",
   "execution_count": 9,
   "metadata": {
    "collapsed": true
   },
   "outputs": [],
   "source": [
    "company_totals = company.aggregate([\n",
    "    ('count', agate.Length())\n",
    "])"
   ]
  },
  {
   "cell_type": "code",
   "execution_count": 12,
   "metadata": {
    "collapsed": false
   },
   "outputs": [
    {
     "name": "stdout",
     "output_type": "stream",
     "text": [
      "|----------------------------+--------|\n",
      "|  OWNCO-------------------- | count  |\n",
      "|----------------------------+--------|\n",
      "|  UPRR                      | 1,075  |\n",
      "|                            |   450  |\n",
      "|  UNKNOWN                   |   276  |\n",
      "|  OPPD                      |   254  |\n",
      "|  UNION PACIFIC RAILROAD    |   223  |\n",
      "|  NPPD                      |   194  |\n",
      "|  OFFUTT A F B              |   179  |\n",
      "|  KOCH NITROGEN             |   152  |\n",
      "|  BNSF                      |   145  |\n",
      "|  BURLINGTON NORTHERN RR    |   139  |\n",
      "|  NEBR DEPT OF ROADS        |   126  |\n",
      "|  WILLIAMS PIPELINE         |   100  |\n",
      "|  FARMLAND INDUSTRIES       |    93  |\n",
      "|  CITY OF OMAHA             |    84  |\n",
      "|  FE WARREN AFB             |    83  |\n",
      "|  BNRR                      |    79  |\n",
      "|  CASEYS GENERAL STORES     |    67  |\n",
      "|  LINCOLN PUBLIC SCHOOLS    |    65  |\n",
      "|  NEBRASKA DEPT OF ROADS    |    61  |\n",
      "|  OMAHA PUBLIC SCHOOLS      |    59  |\n",
      "|  ...                       |   ...  |\n",
      "|----------------------------+--------|\n"
     ]
    }
   ],
   "source": [
    "sorted_companies = company_totals.order_by('count', reverse=True\n",
    ")\n",
    "sorted_companies.print_table(max_rows=20)"
   ]
  },
  {
   "cell_type": "code",
   "execution_count": null,
   "metadata": {
    "collapsed": true
   },
   "outputs": [],
   "source": []
  }
 ],
 "metadata": {
  "kernelspec": {
   "display_name": "Python 3",
   "language": "python",
   "name": "python3"
  },
  "language_info": {
   "codemirror_mode": {
    "name": "ipython",
    "version": 3
   },
   "file_extension": ".py",
   "mimetype": "text/x-python",
   "name": "python",
   "nbconvert_exporter": "python",
   "pygments_lexer": "ipython3",
   "version": "3.5.1"
  }
 },
 "nbformat": 4,
 "nbformat_minor": 0
}
